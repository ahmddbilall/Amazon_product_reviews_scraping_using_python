{
 "cells": [
  {
   "cell_type": "code",
   "execution_count": 1,
   "metadata": {},
   "outputs": [],
   "source": [
    "link = 'https://www.amazon.com/Apple-2024-MacBook-13-inch-Laptop/product-reviews/B0CX3NVXV9/ref=cm_cr_dp_d_show_all_btm?ie=UTF8&reviewerType=all_reviews'"
   ]
  },
  {
   "cell_type": "markdown",
   "metadata": {},
   "source": [
    "## Funtions"
   ]
  },
  {
   "cell_type": "code",
   "execution_count": 2,
   "metadata": {},
   "outputs": [],
   "source": [
    "from selenium import webdriver\n",
    "from selenium.webdriver.common.keys import Keys\n",
    "from selenium.webdriver.common.by import By\n",
    "from selenium.webdriver.support.ui import WebDriverWait\n",
    "from selenium.webdriver.support import expected_conditions as EC\n",
    "import time\n",
    "from selenium.common.exceptions import NoSuchElementException\n",
    "from selenium.webdriver.common.action_chains import ActionChains\n"
   ]
  },
  {
   "cell_type": "code",
   "execution_count": 3,
   "metadata": {},
   "outputs": [],
   "source": [
    "def wait_for_page_load(driver, timeout=10):\n",
    "    '''\n",
    "    Wait for the page to load within the given timeout period.\n",
    "    If the page does not load in the specified time, an exception is raised.\n",
    "    '''\n",
    "    try:\n",
    "        WebDriverWait(driver, timeout).until(\n",
    "            EC.presence_of_element_located((By.TAG_NAME, \"body\"))\n",
    "        )\n",
    "    except Exception as e:\n",
    "        print(f\"Error while waiting for page load: {e}\")\n"
   ]
  },
  {
   "cell_type": "code",
   "execution_count": 4,
   "metadata": {},
   "outputs": [],
   "source": [
    "def load_page(driver, URL):\n",
    "    '''\n",
    "    Load the given URL and wait until the page is fully loaded.\n",
    "    If the page does not load within 10 seconds, an exception will be raised.\n",
    "    '''\n",
    "    driver.get(URL)\n",
    "    wait_for_page_load(driver)\n",
    "    assert \"No results found.\" not in driver.page_source"
   ]
  },
  {
   "cell_type": "code",
   "execution_count": 5,
   "metadata": {},
   "outputs": [],
   "source": [
    "def scroll_page(driver, pause_time=1, scroll_increment=300, scroll_pause=0.5):\n",
    "    '''\n",
    "    Scrolls down the entire page slowly to mimic human behavior and allow content to load properly.\n",
    "    \n",
    "    Parameters:\n",
    "    - driver: The Selenium WebDriver instance.\n",
    "    - pause_time: Time to wait (in seconds) after scrolling to allow content to load.\n",
    "    - scroll_increment: Number of pixels to scroll in each step.\n",
    "    - scroll_pause: Time to wait (in seconds) between each scroll increment.\n",
    "    '''\n",
    "    last_height = driver.execute_script(\"return document.body.scrollHeight\")\n",
    "    \n",
    "    while True:\n",
    "        driver.execute_script(f\"window.scrollBy(0, {scroll_increment});\")\n",
    "        \n",
    "        time.sleep(scroll_pause)\n",
    "        \n",
    "        new_height = driver.execute_script(\"return document.body.scrollHeight\")\n",
    "        \n",
    "        if new_height == last_height:\n",
    "            break\n",
    "        \n",
    "        last_height = new_height\n",
    "        \n",
    "        time.sleep(pause_time)\n",
    "\n",
    "    print(\"Reached the bottom of the page.\")\n"
   ]
  },
  {
   "cell_type": "code",
   "execution_count": 6,
   "metadata": {},
   "outputs": [],
   "source": [
    "def click_next_page(driver):\n",
    "    '''\n",
    "    Attempts to find and click the \"Next page\" button if it exists.\n",
    "    Handles the case where the last page does not contain a link.\n",
    "    '''\n",
    "    try:\n",
    "        next_button = driver.find_element(By.XPATH, \"//li/a[text()='Next page']\")\n",
    "        \n",
    "        href = next_button.get_attribute(\"href\")\n",
    "        if href:\n",
    "            next_button.click()\n",
    "            return True\n",
    "        else:\n",
    "            return False\n",
    "    except NoSuchElementException:\n",
    "        try:\n",
    "            li_tag = driver.find_element(By.XPATH, \"//li[text()='Next page']\")\n",
    "            return False\n",
    "        except NoSuchElementException:\n",
    "            return False\n"
   ]
  },
  {
   "cell_type": "code",
   "execution_count": 7,
   "metadata": {},
   "outputs": [],
   "source": [
    "def get_reviews(driver):\n",
    "    '''\n",
    "    Retrieves and returns a list of reviews from the current page.\n",
    "    '''\n",
    "    reviews = []\n",
    "    try:\n",
    "        review_elements = driver.find_elements(By.CLASS_NAME, 'a-section.review.aok-relative')\n",
    "        \n",
    "        for review in review_elements:\n",
    "            try:\n",
    "                print(\"Processing a review\")\n",
    "                reviewer_name = review.find_element(By.XPATH, \".//span[@class='a-profile-name']\").text\n",
    "                print('name fetched',reviewer_name)\n",
    "                review_title = review.find_element(By.XPATH, \".//a[contains(@class, 'review-title-content')]/span[2]\").text\n",
    "                print('title fetched')\n",
    "                \n",
    "                star_rating = review.find_element(By.XPATH, \".//i[@data-hook='review-star-rating']/span\").text\n",
    "                print('rating fetched')\n",
    "                review_text = review.find_element(By.XPATH, \".//span[contains(@class, 'review-text-content')]/span\").text\n",
    "                print('text fetched')\n",
    "                review_date = review.find_element(By.XPATH, \".//span[contains(@class, 'review-date')]\").text\n",
    "                print('date fetched')\n",
    "                reviews.append({\n",
    "                    'reviewer_name': reviewer_name,\n",
    "                    'review_title': review_title,\n",
    "                    'star_rating': star_rating,\n",
    "                    'review_text': review_text,\n",
    "                    'review_date': review_date\n",
    "                })\n",
    "            \n",
    "            except Exception:\n",
    "                print(f\"Error while processing a review: {review}\")\n",
    "        \n",
    "    except Exception as e:\n",
    "        print(f\"Error while getting reviews: {e}\")\n",
    "    \n",
    "    return reviews\n"
   ]
  },
  {
   "cell_type": "code",
   "execution_count": 8,
   "metadata": {},
   "outputs": [],
   "source": [
    "def start_browser():\n",
    "    '''\n",
    "    Initializes the WebDriver and returns the driver instance.\n",
    "    '''\n",
    "    driver = webdriver.Edge()  \n",
    "    return driver\n"
   ]
  },
  {
   "cell_type": "code",
   "execution_count": 9,
   "metadata": {},
   "outputs": [],
   "source": [
    "def close_browser(driver):\n",
    "    '''\n",
    "    Closes the browser after a brief delay.\n",
    "    '''\n",
    "    print('Closing the browser')\n",
    "    time.sleep(3)\n",
    "    driver.quit()"
   ]
  },
  {
   "cell_type": "markdown",
   "metadata": {},
   "source": [
    "## main"
   ]
  },
  {
   "cell_type": "code",
   "execution_count": 10,
   "metadata": {},
   "outputs": [
    {
     "name": "stderr",
     "output_type": "stream",
     "text": [
      "There was an error managing msedgedriver (error decoding response body); using driver found in the cache\n"
     ]
    }
   ],
   "source": [
    "driver  = start_browser()"
   ]
  },
  {
   "cell_type": "code",
   "execution_count": 11,
   "metadata": {},
   "outputs": [],
   "source": [
    "load_page(driver,link)"
   ]
  },
  {
   "cell_type": "code",
   "execution_count": 12,
   "metadata": {},
   "outputs": [],
   "source": [
    "data = []"
   ]
  },
  {
   "cell_type": "code",
   "execution_count": 13,
   "metadata": {},
   "outputs": [
    {
     "name": "stdout",
     "output_type": "stream",
     "text": [
      "\n",
      "\n",
      "\n",
      "On page 1\n",
      "Processing a review\n",
      "name fetched buyer\n",
      "title fetched\n",
      "rating fetched\n",
      "text fetched\n",
      "date fetched\n",
      "Processing a review\n",
      "name fetched Michelle\n",
      "title fetched\n",
      "rating fetched\n",
      "text fetched\n",
      "date fetched\n",
      "Processing a review\n",
      "name fetched Joe\n",
      "title fetched\n",
      "rating fetched\n",
      "text fetched\n",
      "date fetched\n",
      "Processing a review\n",
      "name fetched Nicholas Baab\n",
      "title fetched\n",
      "rating fetched\n",
      "text fetched\n",
      "date fetched\n",
      "Processing a review\n",
      "name fetched Adam M.\n",
      "title fetched\n",
      "rating fetched\n",
      "text fetched\n",
      "date fetched\n",
      "Processing a review\n",
      "name fetched Lee Pallansch\n",
      "title fetched\n",
      "rating fetched\n",
      "text fetched\n",
      "date fetched\n",
      "Processing a review\n",
      "name fetched Jeremy\n",
      "title fetched\n",
      "rating fetched\n",
      "text fetched\n",
      "date fetched\n",
      "Processing a review\n",
      "name fetched AmazonUser476\n",
      "title fetched\n",
      "rating fetched\n",
      "text fetched\n",
      "date fetched\n",
      "Processing a review\n",
      "name fetched Mehr\n",
      "title fetched\n",
      "rating fetched\n",
      "text fetched\n",
      "date fetched\n",
      "Processing a review\n",
      "name fetched divadayton\n",
      "title fetched\n",
      "rating fetched\n",
      "text fetched\n",
      "date fetched\n",
      "Reached the bottom of the page.\n",
      "\n",
      "\n",
      "\n",
      "On page 2\n",
      "Reached the bottom of the page.\n"
     ]
    }
   ],
   "source": [
    "run = True\n",
    "i = 1\n",
    "while(run):\n",
    "    print(f'\\n\\n\\nOn page {i}')\n",
    "    i+=1\n",
    "    data.append(get_reviews(driver))\n",
    "    wait_for_page_load(driver)\n",
    "    time.sleep(5)\n",
    "    scroll_page(driver,pause_time=5)\n",
    "    run = click_next_page(driver)\n"
   ]
  },
  {
   "cell_type": "code",
   "execution_count": 14,
   "metadata": {},
   "outputs": [],
   "source": [
    "flattened_list = [item for sublist in data for item in sublist]"
   ]
  },
  {
   "cell_type": "code",
   "execution_count": 15,
   "metadata": {},
   "outputs": [
    {
     "data": {
      "text/plain": [
       "10"
      ]
     },
     "execution_count": 15,
     "metadata": {},
     "output_type": "execute_result"
    }
   ],
   "source": [
    "len(flattened_list)"
   ]
  },
  {
   "cell_type": "code",
   "execution_count": 16,
   "metadata": {},
   "outputs": [
    {
     "data": {
      "text/plain": [
       "[{'reviewer_name': 'buyer',\n",
       "  'review_title': 'Totally capable and worth the buy',\n",
       "  'star_rating': '',\n",
       "  'review_text': \"I recently bought this machine for two purposes. The deal was I'd use this for my freelance work for a month while my 2019 Macbook Pro was being fixed and then my niece gets it for college. So it's really a gift, but I got to use it for a few weeks.\\n\\nMy biggest grip is that the ports are all on one side, the side that makes plugging things in on my desk awkward. My Macbook Pro has two ports on each side, and I always end up using the right side ports for charging and for the dongle.\\n\\nBut I almost never use it as a LAPtop. It's really a desktop machine that I take from desk to desk with rare appearances not plugged into an external monitor and other devices. It is more portable than my Pro but not enough for it to make a big difference. On a small popup desk in a university auditorium and bouncing around campus, this is probably more noticeable, I just don't have the experience to comment.\\n\\nI only use one external monitor but for power users using two monitors the new M3 chip probably makes a big difference. I don't even know if my 2019 Pro with an Intel chip can do this, I've never tried. But I think power users requiring multiple monitors are aiming for the Pro.\\n\\nRunning high-ish intensity apps like IntelliJ with multiple apps in the background, I have to concede that this machine is a little slower than my 2019 Pro. But I think that's largely to do with the fact that my main machine has more RAM. With solid state memory being the norm these days it doesn't matter much, and really even high intensity tasks that make my pro's fan start up only take maybe a second or two more on this machine.\\n\\nI'm not an Apple preacher. I still haven't decided whether I like macOS more than Windows. But Apple hardware seems to be better than any PC hardware in this price range. PC laptops seem to degrade faster, mostly the battery. PC laptop batteries go from 18 hours to 2 hours over the course of 5 years. My Pro battery went from 18 or so to 4 over 5 years. And these days you can't change a PC battery with this form factor either.\\n\\nThe Pro screen is definitely better, but again I'm using an external monitor 99% of the time, so it doesn't matter much for me.\\n\\nIf you're running high intensity apps you should go for the Pro still, but the difference isn't really that huge. If you're doing things that don't involve high intensity calculations this is probably the best machine on the market especially for the money.\\n\\nIf you're trying to decide between this and a PC of similar price and reputation, this is probably the first time I'd say Apple is offering a better product for the money. This machine is cheaper than it should be. So it's really a decision between macOS and Windows. Mac has the better command line out of the box but similar Windows tools can be installed just as easily. For gaming, Windows wins, but this isn't a gaming device. The best benefit to macOS for my work is that my employer won't give administrative privs to Windows users, but for macOS they haven't removed that yet, so I can actually do my job without having to ask permission to install an ad blocker in Chrome. Huge plus.\",\n",
       "  'review_date': 'Reviewed in the United States on August 6, 2024'},\n",
       " {'reviewer_name': 'Michelle',\n",
       "  'review_title': 'Great laptop, too small for my workflow',\n",
       "  'star_rating': '',\n",
       "  'review_text': \"Objectively speaking, the M3 16 gb ram w/ 512 storage is a 5-star computer all day, so I am giving 5-stars.\\n\\nThis is a great device, but everyone already knows that, so I am focusing on two big considerations that I had - specs and size. I am just a layperson who primarily uses this device for office work.\\n\\nIn sum, wish I could keep this one, but it's just too small. This size is will be great for many users. Further, I will not ever buy a base model (8/256), but many people would probably be fine with base model.\\n\\nSpecs-\\n\\nI originally bought a base model M2 (8/256) but swapped it out for the M3 16/512. With a brand new base model M2, I was constantly using memory swap and in yellow memory pressure. This happened immediately and took almost nothing. In addition, I only had ~80 gb of memory left after MacOS, iMessage, etc. took up most of the space on my hard-drive. I spent 2 days trouble-shooting this issue with Apple - turns out my only real option was to spec up. I bought the base model thinking I would be okay since I use cloud based services for everything. I was wrong. For ME, the super savings on the base model are NOT worth it. The savings will be worth it for other people with different needs and preferences. (And, again, I am a just layperson w/ tech. Just trying to share my lay opinion from my experience. Take with grain of salt.)\\n\\nSize-\\n\\nI actually love the size of the 13-inch, but for my work use, the screen is just too small. I use this laptop for work and personal, but my workflow is the most important consideration. I tend to multitask and juggle multiple word processing documents, pdfs, excel spreadsheets, and internet browser tabs. I also use split screen. I just cannot see enough text at once when I review documents - this causes decreased productivity and a far less comfortable experience.\\n\\nSo, I have to size up to the 15-inch. If this was JUST a personal laptop, I would keep the 13-inch and absolutely love it.\\n\\nAlso, I went to a store and tested out both sizes before purchasing, but that did not help me. Unfortunately, I had to test drive with my actual workflow before I realized the 13-inch was insufficient for my needs.\\n\\nOh, one other thing. I love the midnight color. But all the fingerprint concerns are 100% legit (even with the M3, which I really did not notice the supposed improvement). I happen to find the beautiful color to be worth the fingerprints, but if that bothers you - do not buy midnight.\\n\\nGood luck, everyone!\",\n",
       "  'review_date': 'Reviewed in the United States on June 14, 2024'},\n",
       " {'reviewer_name': 'Joe',\n",
       "  'review_title': 'Perfection in every way',\n",
       "  'star_rating': '',\n",
       "  'review_text': 'First off, the size for the 13 inch air Mac is a big enough size for a screen. I was expecting it to be smaller, but was pleasantly surprised.\\n\\nThe quality of the screen and resolution and whatnots are impeccable. This runs like a dream. Unless you’re just setting it up and then it takes a bit to get going due to all the information you’re logging back in with if you’re an Apple user.\\n\\nThe appearance of this thing is beautiful. I don’t know if I’ve ever seen a nicer looking laptop than this one. It’s really sleek looking. Very slim too. Also very very very light, so careful when handling it.\\n\\nThe keyboard is practically silent when you’re typing on it.\\n\\nThe speed on it after setting it up blew me away and I’m so happy I made this purchase. It feels so easy to use when you’re on it.\\n\\nHighly recommend this laptop to any Apple user that was the M3 chip, a newer laptop upgrade and something to do what you need to off of it. It’s amazing.',\n",
       "  'review_date': 'Reviewed in the United States on July 28, 2024'},\n",
       " {'reviewer_name': 'Nicholas Baab',\n",
       "  'review_title': '2024 M3 Air',\n",
       "  'star_rating': '',\n",
       "  'review_text': 'As a long term apple user and this being my 3rd apple computer (2017 macbook pro i5) (2021 mac mini m2) and this, its very robust in its biuld, feels like alluminum, screen quality is immaculate, very nice color, sounds decent for laptop speakers, scored 39,500 on Silverbench.com on the benchmark test as well as can denoise an image in adobe lightroom classic in under 20 seconds, gaming is also not an issue with the new air, i can run even more complex mac native games on max graphics and it doesnt even get hot. battery life will easily last all day, keyboard is comfortable and easy to type on, one drawback is they took away the app search button and you have to use the spotlight. overall a really solid work laptop',\n",
       "  'review_date': 'Reviewed in the United States on August 5, 2024'},\n",
       " {'reviewer_name': 'Adam M.',\n",
       "  'review_title': 'First ever MacBook for School',\n",
       "  'star_rating': '',\n",
       "  'review_text': 'My first ever MacBook. Have always been a windows guy but thought I’d give it a try. Overall it’s been about two months of using and I love it so far. Have had multiple people comment how nice my laptop looks.\\n\\nBeen using this for school. Decided to finish my senior year online. Truthfully I was a little worried about the 8gb of RAM as most laptops I’ve had have had 16. That being said, I’ve had no issues with it and it has run multiple tabs and windows well seamlessly flowing between them. Have loved working on this for school. Not much storage on the laptop, but really hadn’t been an issue as I use iCloud and OneDrive for school work.\\n\\nBiggest thing I love is the battery life. It last so long compared to all my other laptops I’ve owned and I don’t feel tethered to my charger at all.\\n\\nOverall, if you’re budget allows, I think this is great laptop for school and work. Wouldn’t recommend for gaming or anything like that, but for just about everything else it seems great. And again, for anyone else wondering like I was , the 8gb model has been more tan enough for my school work so far.',\n",
       "  'review_date': 'Reviewed in the United States on July 7, 2024'},\n",
       " {'reviewer_name': 'Lee Pallansch',\n",
       "  'review_title': 'Making the change from Windows to Mac',\n",
       "  'star_rating': '',\n",
       "  'review_text': 'Received my MacBook Air as promised. Impressed with packaging. Easy to turn on and get started. A little bit of a learning curve as this is my first Mac. Love the integration with my iPhone and iPad and even login by having my Apple Watch on my wrist. Installed apps easily and able to do my basic functions quickly.',\n",
       "  'review_date': 'Reviewed in the United States on August 11, 2024'},\n",
       " {'reviewer_name': 'Jeremy',\n",
       "  'review_title': 'Great Laptop for my College Student',\n",
       "  'star_rating': '',\n",
       "  'review_text': 'Bought this one on a deal and as a present for my son. Looked at several laptop and this one was his choice amongst the other. I know that this would last him through his college days and will serve him well. Quality built is top notch and fast processing power.',\n",
       "  'review_date': 'Reviewed in the United States on August 8, 2024'},\n",
       " {'reviewer_name': 'AmazonUser476',\n",
       "  'review_title': 'Amazing product. Lacking 5 stars because of the lack of dual monitor support',\n",
       "  'star_rating': '',\n",
       "  'review_text': \"My 2017 MacBook pro died recently, so needed an upgrade.\\nUpgraded to the M3 MacBook air.\\nIt really is a beautiful device. A little pricey, but hey thats Macs for ya.\\nThe only flaw: the lack of being able to use 2 external monitors with the lid open.\\nMy 2017 intel based MacBook pro could do this.\\nThis is supposed to be their most powerful chip, kind of crazy they couldn't match what intel could do.\\nLuckily there is a $100 work around (rather than having to spend something like $1,000 extra on an upgraded model with an M3 Pro/Max chip)...look for usb hubs with DisplayLink technology - so that you can use 3 screens at once if thats what you care about. Has worked great with this Mac.\\nAgain would be 5 stars if they didn't have the external display limit\",\n",
       "  'review_date': 'Reviewed in the United States on July 31, 2024'},\n",
       " {'reviewer_name': 'Mehr',\n",
       "  'review_title': 'Love it',\n",
       "  'star_rating': '',\n",
       "  'review_text': 'I use this for college. The battery life is absolutely amazing. I still need to figure out how to navigate through it but i definitely recommend. It came brand new, it works fast, it has some weight to it like a couple of pounds but it’s nice and thin. The sound quality is amazing too like a normal computer would have. It is amazing but i think any MacBook would be good. I didn’t like the price of it but other than that, it’s wonderful. I got it on sale during July 4th, I recommend waiting a bit for it to go on sale again!',\n",
       "  'review_date': 'Reviewed in the United States on July 31, 2024'},\n",
       " {'reviewer_name': 'divadayton',\n",
       "  'review_title': 'My first MacBook and I love it!',\n",
       "  'star_rating': '',\n",
       "  'review_text': 'I didn’t open it until I took a MacBook class at Apple today and was relieved to know it is much more user friendly than I thought it would be. I had just upgraded to an IPhone 15 Pro so I was thrilled how many things sync.\\nLooking forward to really getting to take advantage of all its features once I have played around with all the options.',\n",
       "  'review_date': 'Reviewed in the United States on July 28, 2024'}]"
      ]
     },
     "execution_count": 16,
     "metadata": {},
     "output_type": "execute_result"
    }
   ],
   "source": [
    "flattened_list"
   ]
  },
  {
   "cell_type": "code",
   "execution_count": 17,
   "metadata": {},
   "outputs": [
    {
     "name": "stdout",
     "output_type": "stream",
     "text": [
      "Closing the browser\n"
     ]
    }
   ],
   "source": [
    "close_browser(driver=driver)"
   ]
  }
 ],
 "metadata": {
  "kernelspec": {
   "display_name": "env",
   "language": "python",
   "name": "python3"
  },
  "language_info": {
   "codemirror_mode": {
    "name": "ipython",
    "version": 3
   },
   "file_extension": ".py",
   "mimetype": "text/x-python",
   "name": "python",
   "nbconvert_exporter": "python",
   "pygments_lexer": "ipython3",
   "version": "3.11.9"
  }
 },
 "nbformat": 4,
 "nbformat_minor": 2
}
