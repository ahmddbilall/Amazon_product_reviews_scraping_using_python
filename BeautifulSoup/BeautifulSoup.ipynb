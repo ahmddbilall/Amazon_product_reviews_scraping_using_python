{
 "cells": [
  {
   "cell_type": "code",
   "execution_count": 40,
   "id": "5c876637",
   "metadata": {},
   "outputs": [],
   "source": [
    "import requests\n",
    "import pandas as pd\n",
    "from bs4 import BeautifulSoup\n",
    "from datetime import datetime"
   ]
  },
  {
   "cell_type": "code",
   "execution_count": 41,
   "id": "d3fa2952",
   "metadata": {},
   "outputs": [],
   "source": [
    "headers = {\n",
    "    'authority': 'www.amazon.com',\n",
    "    'accept': 'text/html,application/xhtml+xml,application/xml;q=0.9,image/avif,image/webp,image/apng,*/*;q=0.8,application/signed-exchange;v=b3;q=0.9',\n",
    "    'accept-language': 'en-US,en;q=0.9,bn;q=0.8',\n",
    "    'sec-ch-ua': '\" Not A;Brand\";v=\"99\", \"Chromium\";v=\"102\", \"Google Chrome\";v=\"102\"',\n",
    "    'user-agent': 'Mozilla/5.0 (Windows NT 10.0; Win64; x64) AppleWebKit/537.36 (KHTML, like Gecko) Chrome/102.0.0.0 Safari/537.36'\n",
    "}"
   ]
  },
  {
   "cell_type": "code",
   "execution_count": 42,
   "id": "f19e72fc",
   "metadata": {},
   "outputs": [],
   "source": [
    "def generate_amazon_review_urls(asin, num_pages=10):\n",
    "    base_url = f'https://www.amazon.com/product-reviews/{asin}'\n",
    "    urls = [base_url]\n",
    "    \n",
    "    for page in range(2, num_pages + 1):\n",
    "        url = f'{base_url}/ref=cm_cr_arp_d_paging_btm_next_{page}?pageNumber={page}'\n",
    "        urls.append(url)\n",
    "    \n",
    "    return urls"
   ]
  },
  {
   "cell_type": "code",
   "execution_count": 43,
   "id": "75b0d65d",
   "metadata": {},
   "outputs": [],
   "source": [
    "def reviewsHtml(links):\n",
    "    \n",
    "    soups = []\n",
    "    \n",
    "    for link in links:\n",
    "        \n",
    "        response = requests.get(link, headers=headers)\n",
    "        \n",
    "        \n",
    "        soup = BeautifulSoup(response.text, 'lxml')\n",
    "        \n",
    "        soups.append(soup)\n",
    "        \n",
    "    return soups"
   ]
  },
  {
   "cell_type": "code",
   "execution_count": 44,
   "id": "8dd5f9c7",
   "metadata": {},
   "outputs": [],
   "source": [
    "def getReviews(html_data):\n",
    "\n",
    "    data_dicts = []\n",
    "    \n",
    "    boxes = html_data.select('div[data-hook=\"review\"]')\n",
    "    \n",
    "    for box in boxes:\n",
    "        \n",
    "        try:\n",
    "            name = box.select_one('[class=\"a-profile-name\"]').text.strip()\n",
    "        except Exception as e:\n",
    "            name = 'N/A'\n",
    "\n",
    "        try:\n",
    "            stars = box.select_one('[data-hook=\"review-star-rating\"]').text.strip().split(' out')[0]\n",
    "        except Exception as e:\n",
    "            stars = 'N/A'   \n",
    "\n",
    "        try:\n",
    "            title = box.select_one('[data-hook=\"review-title\"]').text.strip()\n",
    "        except Exception as e:\n",
    "            title = 'N/A'\n",
    "\n",
    "        try:\n",
    "            datetime_str = box.select_one('[data-hook=\"review-date\"]').text.strip().split(' on ')[-1]\n",
    "            date = datetime.strptime(datetime_str, '%B %d, %Y').strftime(\"%d/%m/%Y\")\n",
    "        except Exception as e:\n",
    "            date = 'N/A'\n",
    "\n",
    "        try:\n",
    "            description = box.select_one('[data-hook=\"review-body\"]').text.strip()\n",
    "        except Exception as e:\n",
    "            description = 'N/A'\n",
    "\n",
    "        data_dict = {\n",
    "            'Name' : name,\n",
    "            'Stars' : stars,\n",
    "            'Title' : title,\n",
    "            'Date' : date,\n",
    "            'Description' : description\n",
    "        }\n",
    "\n",
    "        data_dicts.append(data_dict)\n",
    "    \n",
    "    return data_dicts"
   ]
  },
  {
   "cell_type": "code",
   "execution_count": 45,
   "id": "3d9cfbcc",
   "metadata": {},
   "outputs": [],
   "source": [
    "asin = 'B0CX3NVXV9'\n",
    "links = generate_amazon_review_urls(asin=asin,num_pages=10)"
   ]
  },
  {
   "cell_type": "code",
   "execution_count": 46,
   "id": "83731672",
   "metadata": {
    "scrolled": true
   },
   "outputs": [],
   "source": [
    "html_datas = reviewsHtml(links)"
   ]
  },
  {
   "cell_type": "code",
   "execution_count": 47,
   "id": "545bb6ed",
   "metadata": {},
   "outputs": [],
   "source": [
    "# Empty List to Hold all reviews data\n",
    "reviews = []"
   ]
  },
  {
   "cell_type": "code",
   "execution_count": 48,
   "id": "a26391c7",
   "metadata": {},
   "outputs": [],
   "source": [
    "# Iterate all Html page \n",
    "for html_data in html_datas:\n",
    "    \n",
    "    # Grab review data\n",
    "    review = getReviews(html_data)\n",
    "    \n",
    "    # add review data in reviews empty list\n",
    "    reviews += review"
   ]
  },
  {
   "cell_type": "code",
   "execution_count": 49,
   "id": "25fd4ec7",
   "metadata": {},
   "outputs": [],
   "source": [
    "# Create a dataframe with reviews Data\n",
    "df_reviews = pd.DataFrame(reviews)"
   ]
  },
  {
   "cell_type": "code",
   "execution_count": 50,
   "id": "394b9257",
   "metadata": {
    "scrolled": true
   },
   "outputs": [
    {
     "data": {
      "text/html": [
       "<div>\n",
       "<style scoped>\n",
       "    .dataframe tbody tr th:only-of-type {\n",
       "        vertical-align: middle;\n",
       "    }\n",
       "\n",
       "    .dataframe tbody tr th {\n",
       "        vertical-align: top;\n",
       "    }\n",
       "\n",
       "    .dataframe thead th {\n",
       "        text-align: right;\n",
       "    }\n",
       "</style>\n",
       "<table border=\"1\" class=\"dataframe\">\n",
       "  <thead>\n",
       "    <tr style=\"text-align: right;\">\n",
       "      <th></th>\n",
       "      <th>Name</th>\n",
       "      <th>Stars</th>\n",
       "      <th>Title</th>\n",
       "      <th>Date</th>\n",
       "      <th>Description</th>\n",
       "    </tr>\n",
       "  </thead>\n",
       "  <tbody>\n",
       "    <tr>\n",
       "      <th>0</th>\n",
       "      <td>buyer</td>\n",
       "      <td>5.0</td>\n",
       "      <td>5.0 out of 5 stars\\nTotally capable and worth ...</td>\n",
       "      <td>06/08/2024</td>\n",
       "      <td>I recently bought this machine for two purpose...</td>\n",
       "    </tr>\n",
       "    <tr>\n",
       "      <th>1</th>\n",
       "      <td>Michelle</td>\n",
       "      <td>5.0</td>\n",
       "      <td>5.0 out of 5 stars\\nGreat laptop, too small fo...</td>\n",
       "      <td>14/06/2024</td>\n",
       "      <td>Objectively speaking, the M3 16 gb ram w/ 512 ...</td>\n",
       "    </tr>\n",
       "    <tr>\n",
       "      <th>2</th>\n",
       "      <td>Joe</td>\n",
       "      <td>5.0</td>\n",
       "      <td>5.0 out of 5 stars\\nPerfection in every way</td>\n",
       "      <td>28/07/2024</td>\n",
       "      <td>First off, the size for the 13 inch air Mac is...</td>\n",
       "    </tr>\n",
       "    <tr>\n",
       "      <th>3</th>\n",
       "      <td>Nicholas Baab</td>\n",
       "      <td>5.0</td>\n",
       "      <td>5.0 out of 5 stars\\n2024 M3 Air</td>\n",
       "      <td>05/08/2024</td>\n",
       "      <td>As a long term apple user and this being my 3r...</td>\n",
       "    </tr>\n",
       "    <tr>\n",
       "      <th>4</th>\n",
       "      <td>Adam M.</td>\n",
       "      <td>5.0</td>\n",
       "      <td>5.0 out of 5 stars\\nFirst ever MacBook for School</td>\n",
       "      <td>07/07/2024</td>\n",
       "      <td>My first ever MacBook. Have always been a wind...</td>\n",
       "    </tr>\n",
       "    <tr>\n",
       "      <th>...</th>\n",
       "      <td>...</td>\n",
       "      <td>...</td>\n",
       "      <td>...</td>\n",
       "      <td>...</td>\n",
       "      <td>...</td>\n",
       "    </tr>\n",
       "    <tr>\n",
       "      <th>95</th>\n",
       "      <td>karen short</td>\n",
       "      <td>5.0</td>\n",
       "      <td>5.0 out of 5 stars\\nBuy this!</td>\n",
       "      <td>25/05/2024</td>\n",
       "      <td>Went to Best Buy to see what they had in stock...</td>\n",
       "    </tr>\n",
       "    <tr>\n",
       "      <th>96</th>\n",
       "      <td>sharon e.</td>\n",
       "      <td>5.0</td>\n",
       "      <td>5.0 out of 5 stars\\nNice!</td>\n",
       "      <td>17/06/2024</td>\n",
       "      <td>Very pleased with this computer.</td>\n",
       "    </tr>\n",
       "    <tr>\n",
       "      <th>97</th>\n",
       "      <td>Marisa Gaete</td>\n",
       "      <td>5.0</td>\n",
       "      <td>5.0 out of 5 stars\\nAmazing Laptop</td>\n",
       "      <td>11/06/2024</td>\n",
       "      <td>Exactly what I wanted. Great sale on the item ...</td>\n",
       "    </tr>\n",
       "    <tr>\n",
       "      <th>98</th>\n",
       "      <td>Shaneo</td>\n",
       "      <td>5.0</td>\n",
       "      <td>5.0 out of 5 stars\\nIpad user back to a laptop</td>\n",
       "      <td>05/06/2024</td>\n",
       "      <td>Love the Apple ecosystem. going from device to...</td>\n",
       "    </tr>\n",
       "    <tr>\n",
       "      <th>99</th>\n",
       "      <td>Frank Falatico</td>\n",
       "      <td>5.0</td>\n",
       "      <td>5.0 out of 5 stars\\nDoesn't get any better tha...</td>\n",
       "      <td>20/06/2024</td>\n",
       "      <td>This has everything you want, the looks, the p...</td>\n",
       "    </tr>\n",
       "  </tbody>\n",
       "</table>\n",
       "<p>100 rows × 5 columns</p>\n",
       "</div>"
      ],
      "text/plain": [
       "              Name Stars                                              Title  \\\n",
       "0            buyer   5.0  5.0 out of 5 stars\\nTotally capable and worth ...   \n",
       "1         Michelle   5.0  5.0 out of 5 stars\\nGreat laptop, too small fo...   \n",
       "2              Joe   5.0        5.0 out of 5 stars\\nPerfection in every way   \n",
       "3    Nicholas Baab   5.0                    5.0 out of 5 stars\\n2024 M3 Air   \n",
       "4          Adam M.   5.0  5.0 out of 5 stars\\nFirst ever MacBook for School   \n",
       "..             ...   ...                                                ...   \n",
       "95     karen short   5.0                      5.0 out of 5 stars\\nBuy this!   \n",
       "96       sharon e.   5.0                          5.0 out of 5 stars\\nNice!   \n",
       "97    Marisa Gaete   5.0                 5.0 out of 5 stars\\nAmazing Laptop   \n",
       "98          Shaneo   5.0     5.0 out of 5 stars\\nIpad user back to a laptop   \n",
       "99  Frank Falatico   5.0  5.0 out of 5 stars\\nDoesn't get any better tha...   \n",
       "\n",
       "          Date                                        Description  \n",
       "0   06/08/2024  I recently bought this machine for two purpose...  \n",
       "1   14/06/2024  Objectively speaking, the M3 16 gb ram w/ 512 ...  \n",
       "2   28/07/2024  First off, the size for the 13 inch air Mac is...  \n",
       "3   05/08/2024  As a long term apple user and this being my 3r...  \n",
       "4   07/07/2024  My first ever MacBook. Have always been a wind...  \n",
       "..         ...                                                ...  \n",
       "95  25/05/2024  Went to Best Buy to see what they had in stock...  \n",
       "96  17/06/2024                   Very pleased with this computer.  \n",
       "97  11/06/2024  Exactly what I wanted. Great sale on the item ...  \n",
       "98  05/06/2024  Love the Apple ecosystem. going from device to...  \n",
       "99  20/06/2024  This has everything you want, the looks, the p...  \n",
       "\n",
       "[100 rows x 5 columns]"
      ]
     },
     "execution_count": 50,
     "metadata": {},
     "output_type": "execute_result"
    }
   ],
   "source": [
    "df_reviews"
   ]
  },
  {
   "cell_type": "code",
   "execution_count": 51,
   "id": "f7425596",
   "metadata": {},
   "outputs": [
    {
     "data": {
      "text/plain": [
       "Name            98\n",
       "Stars            3\n",
       "Title           97\n",
       "Date            53\n",
       "Description    100\n",
       "dtype: int64"
      ]
     },
     "execution_count": 51,
     "metadata": {},
     "output_type": "execute_result"
    }
   ],
   "source": [
    "df_reviews.nunique()"
   ]
  },
  {
   "cell_type": "code",
   "execution_count": 53,
   "id": "53a4b504",
   "metadata": {},
   "outputs": [],
   "source": [
    "df_reviews.to_csv('reviews.csv', index=False)"
   ]
  },
  {
   "cell_type": "code",
   "execution_count": null,
   "id": "4da15509",
   "metadata": {},
   "outputs": [],
   "source": []
  },
  {
   "cell_type": "code",
   "execution_count": null,
   "id": "4d73f574",
   "metadata": {},
   "outputs": [],
   "source": []
  },
  {
   "cell_type": "code",
   "execution_count": null,
   "metadata": {},
   "outputs": [],
   "source": []
  },
  {
   "cell_type": "code",
   "execution_count": null,
   "metadata": {},
   "outputs": [],
   "source": []
  },
  {
   "cell_type": "code",
   "execution_count": null,
   "metadata": {},
   "outputs": [],
   "source": []
  },
  {
   "cell_type": "code",
   "execution_count": null,
   "metadata": {},
   "outputs": [],
   "source": []
  },
  {
   "cell_type": "code",
   "execution_count": null,
   "metadata": {},
   "outputs": [],
   "source": []
  }
 ],
 "metadata": {
  "kernelspec": {
   "display_name": "Python 3 (ipykernel)",
   "language": "python",
   "name": "python3"
  },
  "language_info": {
   "codemirror_mode": {
    "name": "ipython",
    "version": 3
   },
   "file_extension": ".py",
   "mimetype": "text/x-python",
   "name": "python",
   "nbconvert_exporter": "python",
   "pygments_lexer": "ipython3",
   "version": "3.11.9"
  }
 },
 "nbformat": 4,
 "nbformat_minor": 5
}
